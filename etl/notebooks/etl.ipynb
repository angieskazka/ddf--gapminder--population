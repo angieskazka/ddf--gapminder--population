{
 "cells": [
  {
   "cell_type": "code",
   "execution_count": 1,
   "metadata": {
    "collapsed": true
   },
   "outputs": [],
   "source": [
    "import pandas as pd"
   ]
  },
  {
   "cell_type": "code",
   "execution_count": 2,
   "metadata": {
    "collapsed": true
   },
   "outputs": [],
   "source": [
    "country_file = '../source/ddf--data_for--population--by--country--year.xlsx'\n",
    "global_file = '../source/ddf--data_for--population--by--global--year.xlsx'\n",
    "w4r_file = '../source/ddf--data_for--population--by--world_4region--year.xlsx'"
   ]
  },
  {
   "cell_type": "code",
   "execution_count": 3,
   "metadata": {
    "collapsed": true
   },
   "outputs": [],
   "source": [
    "country = pd.read_excel(country_file)\n",
    "gbl = pd.read_excel(global_file)\n",
    "w4r = pd.read_excel(w4r_file)"
   ]
  },
  {
   "cell_type": "code",
   "execution_count": null,
   "metadata": {
    "collapsed": true
   },
   "outputs": [],
   "source": [
    "# datapoints\n",
    "# there is an issue about country entities. check below"
   ]
  },
  {
   "cell_type": "code",
   "execution_count": 4,
   "metadata": {
    "collapsed": false
   },
   "outputs": [
    {
     "data": {
      "text/html": [
       "<div>\n",
       "<table border=\"1\" class=\"dataframe\">\n",
       "  <thead>\n",
       "    <tr style=\"text-align: right;\">\n",
       "      <th></th>\n",
       "      <th>geo</th>\n",
       "      <th>geo.name</th>\n",
       "      <th>year</th>\n",
       "      <th>population</th>\n",
       "    </tr>\n",
       "  </thead>\n",
       "  <tbody>\n",
       "    <tr>\n",
       "      <th>0</th>\n",
       "      <td>afg</td>\n",
       "      <td>Afghanistan</td>\n",
       "      <td>1800</td>\n",
       "      <td>3280000</td>\n",
       "    </tr>\n",
       "    <tr>\n",
       "      <th>1</th>\n",
       "      <td>afg</td>\n",
       "      <td>Afghanistan</td>\n",
       "      <td>1801</td>\n",
       "      <td>3280000</td>\n",
       "    </tr>\n",
       "    <tr>\n",
       "      <th>2</th>\n",
       "      <td>afg</td>\n",
       "      <td>Afghanistan</td>\n",
       "      <td>1802</td>\n",
       "      <td>3280000</td>\n",
       "    </tr>\n",
       "    <tr>\n",
       "      <th>3</th>\n",
       "      <td>afg</td>\n",
       "      <td>Afghanistan</td>\n",
       "      <td>1803</td>\n",
       "      <td>3280000</td>\n",
       "    </tr>\n",
       "    <tr>\n",
       "      <th>4</th>\n",
       "      <td>afg</td>\n",
       "      <td>Afghanistan</td>\n",
       "      <td>1804</td>\n",
       "      <td>3280000</td>\n",
       "    </tr>\n",
       "  </tbody>\n",
       "</table>\n",
       "</div>"
      ],
      "text/plain": [
       "   geo     geo.name  year  population\n",
       "0  afg  Afghanistan  1800     3280000\n",
       "1  afg  Afghanistan  1801     3280000\n",
       "2  afg  Afghanistan  1802     3280000\n",
       "3  afg  Afghanistan  1803     3280000\n",
       "4  afg  Afghanistan  1804     3280000"
      ]
     },
     "execution_count": 4,
     "metadata": {},
     "output_type": "execute_result"
    }
   ],
   "source": [
    "country.head()"
   ]
  },
  {
   "cell_type": "code",
   "execution_count": 5,
   "metadata": {
    "collapsed": true
   },
   "outputs": [],
   "source": [
    "country[['geo', 'year', 'population']].to_csv('../../ddf--datapoints--population--by--geo--year.csv', index=False)"
   ]
  },
  {
   "cell_type": "code",
   "execution_count": 6,
   "metadata": {
    "collapsed": false
   },
   "outputs": [
    {
     "data": {
      "text/html": [
       "<div>\n",
       "<table border=\"1\" class=\"dataframe\">\n",
       "  <thead>\n",
       "    <tr style=\"text-align: right;\">\n",
       "      <th></th>\n",
       "      <th>geo</th>\n",
       "      <th>year</th>\n",
       "      <th>population</th>\n",
       "    </tr>\n",
       "  </thead>\n",
       "  <tbody>\n",
       "    <tr>\n",
       "      <th>0</th>\n",
       "      <td>world</td>\n",
       "      <td>1800</td>\n",
       "      <td>2001569565</td>\n",
       "    </tr>\n",
       "    <tr>\n",
       "      <th>1</th>\n",
       "      <td>world</td>\n",
       "      <td>1801</td>\n",
       "      <td>954289674</td>\n",
       "    </tr>\n",
       "    <tr>\n",
       "      <th>2</th>\n",
       "      <td>world</td>\n",
       "      <td>1802</td>\n",
       "      <td>958336903</td>\n",
       "    </tr>\n",
       "    <tr>\n",
       "      <th>3</th>\n",
       "      <td>world</td>\n",
       "      <td>1803</td>\n",
       "      <td>962618615</td>\n",
       "    </tr>\n",
       "    <tr>\n",
       "      <th>4</th>\n",
       "      <td>world</td>\n",
       "      <td>1804</td>\n",
       "      <td>966938115</td>\n",
       "    </tr>\n",
       "  </tbody>\n",
       "</table>\n",
       "</div>"
      ],
      "text/plain": [
       "     geo  year  population\n",
       "0  world  1800  2001569565\n",
       "1  world  1801   954289674\n",
       "2  world  1802   958336903\n",
       "3  world  1803   962618615\n",
       "4  world  1804   966938115"
      ]
     },
     "execution_count": 6,
     "metadata": {},
     "output_type": "execute_result"
    }
   ],
   "source": [
    "gbl.head()"
   ]
  },
  {
   "cell_type": "code",
   "execution_count": 7,
   "metadata": {
    "collapsed": true
   },
   "outputs": [],
   "source": [
    "gbl[['geo', 'year', 'population']].to_csv('../../ddf--datapoints--population--by--global--year.csv', index=False)"
   ]
  },
  {
   "cell_type": "code",
   "execution_count": 10,
   "metadata": {
    "collapsed": false
   },
   "outputs": [
    {
     "data": {
      "text/html": [
       "<div>\n",
       "<table border=\"1\" class=\"dataframe\">\n",
       "  <thead>\n",
       "    <tr style=\"text-align: right;\">\n",
       "      <th></th>\n",
       "      <th>geo</th>\n",
       "      <th>year</th>\n",
       "      <th>population</th>\n",
       "    </tr>\n",
       "  </thead>\n",
       "  <tbody>\n",
       "    <tr>\n",
       "      <th>0</th>\n",
       "      <td>asia</td>\n",
       "      <td>1800</td>\n",
       "      <td>1284765518</td>\n",
       "    </tr>\n",
       "    <tr>\n",
       "      <th>1</th>\n",
       "      <td>asia</td>\n",
       "      <td>1801</td>\n",
       "      <td>636567010</td>\n",
       "    </tr>\n",
       "    <tr>\n",
       "      <th>2</th>\n",
       "      <td>asia</td>\n",
       "      <td>1802</td>\n",
       "      <td>639813324</td>\n",
       "    </tr>\n",
       "    <tr>\n",
       "      <th>3</th>\n",
       "      <td>asia</td>\n",
       "      <td>1803</td>\n",
       "      <td>643084054</td>\n",
       "    </tr>\n",
       "    <tr>\n",
       "      <th>4</th>\n",
       "      <td>asia</td>\n",
       "      <td>1804</td>\n",
       "      <td>646380505</td>\n",
       "    </tr>\n",
       "  </tbody>\n",
       "</table>\n",
       "</div>"
      ],
      "text/plain": [
       "    geo  year  population\n",
       "0  asia  1800  1284765518\n",
       "1  asia  1801   636567010\n",
       "2  asia  1802   639813324\n",
       "3  asia  1803   643084054\n",
       "4  asia  1804   646380505"
      ]
     },
     "execution_count": 10,
     "metadata": {},
     "output_type": "execute_result"
    }
   ],
   "source": [
    "w4r.head()"
   ]
  },
  {
   "cell_type": "code",
   "execution_count": 11,
   "metadata": {
    "collapsed": true
   },
   "outputs": [],
   "source": [
    "w4r[['geo', 'year', 'population']].to_csv('../../ddf--datapoints--population--by--world_4region--year.csv', index=False)"
   ]
  },
  {
   "cell_type": "code",
   "execution_count": null,
   "metadata": {
    "collapsed": true
   },
   "outputs": [],
   "source": []
  },
  {
   "cell_type": "code",
   "execution_count": null,
   "metadata": {
    "collapsed": true
   },
   "outputs": [],
   "source": []
  },
  {
   "cell_type": "code",
   "execution_count": 12,
   "metadata": {
    "collapsed": true
   },
   "outputs": [],
   "source": [
    "# entities"
   ]
  },
  {
   "cell_type": "code",
   "execution_count": 13,
   "metadata": {
    "collapsed": true
   },
   "outputs": [],
   "source": [
    "country_entities = country[['geo', 'geo.name']].copy()"
   ]
  },
  {
   "cell_type": "code",
   "execution_count": 14,
   "metadata": {
    "collapsed": true
   },
   "outputs": [],
   "source": [
    "country_entities = country_entities.drop_duplicates()"
   ]
  },
  {
   "cell_type": "code",
   "execution_count": 16,
   "metadata": {
    "collapsed": false
   },
   "outputs": [],
   "source": [
    "country_entities.columns = ['geo', 'name']"
   ]
  },
  {
   "cell_type": "code",
   "execution_count": 17,
   "metadata": {
    "collapsed": true
   },
   "outputs": [],
   "source": [
    "country_entities.to_csv('../../ddf--entities--geo--country.csv', index=False)"
   ]
  },
  {
   "cell_type": "code",
   "execution_count": null,
   "metadata": {
    "collapsed": true
   },
   "outputs": [],
   "source": []
  },
  {
   "cell_type": "code",
   "execution_count": 20,
   "metadata": {
    "collapsed": true
   },
   "outputs": [],
   "source": [
    "w4r_ent = w4r[['geo']].copy()"
   ]
  },
  {
   "cell_type": "code",
   "execution_count": 21,
   "metadata": {
    "collapsed": false
   },
   "outputs": [],
   "source": [
    "w4r_ent['name'] = w4r_ent['geo'].str.title()"
   ]
  },
  {
   "cell_type": "code",
   "execution_count": 25,
   "metadata": {
    "collapsed": false
   },
   "outputs": [],
   "source": [
    "w4r_ent = w4r_ent.drop_duplicates().dropna()"
   ]
  },
  {
   "cell_type": "code",
   "execution_count": 26,
   "metadata": {
    "collapsed": true
   },
   "outputs": [],
   "source": [
    "w4r_ent.to_csv('../../ddf--entities--geo--world_4region.csv', index=False)"
   ]
  },
  {
   "cell_type": "code",
   "execution_count": null,
   "metadata": {
    "collapsed": true
   },
   "outputs": [],
   "source": []
  },
  {
   "cell_type": "code",
   "execution_count": 27,
   "metadata": {
    "collapsed": true
   },
   "outputs": [],
   "source": [
    "gbl_ent = pd.DataFrame([['world', 'World']], columns=['geo', 'name'])"
   ]
  },
  {
   "cell_type": "code",
   "execution_count": 29,
   "metadata": {
    "collapsed": false
   },
   "outputs": [],
   "source": [
    "gbl_ent.to_csv('../../ddf--entities--geo--global.csv', index=False)"
   ]
  },
  {
   "cell_type": "code",
   "execution_count": null,
   "metadata": {
    "collapsed": true
   },
   "outputs": [],
   "source": []
  },
  {
   "cell_type": "code",
   "execution_count": 32,
   "metadata": {
    "collapsed": true
   },
   "outputs": [],
   "source": [
    "# concepts\n",
    "# copy concepts from geo_entities_domain repo, and do some little manual edits?"
   ]
  },
  {
   "cell_type": "code",
   "execution_count": 42,
   "metadata": {
    "collapsed": false
   },
   "outputs": [],
   "source": [
    "columns = ['concept', 'name', 'concept_type', 'domain', 'drill_up']\n",
    "\n",
    "cdf = pd.DataFrame([\n",
    "        ['population', 'Population', 'measure'],\n",
    "        ['name', 'Name', 'string'],\n",
    "        ['year', 'Year', 'time'],\n",
    "        ['domain', 'Domain', 'string'],\n",
    "        ['drill_up', 'Drill up', 'string'],\n",
    "        ['geo', 'Geographic locations', 'entity_domain'],\n",
    "        ['world_4region', 'World regions', 'entity_set', 'geo', '[\"global\"]'],\n",
    "        ['country', 'Country', 'entity_set', 'geo', '[\"world_4region\"]'],\n",
    "        ['global', 'global', 'entity_set', 'geo']\n",
    "    ], columns=columns)"
   ]
  },
  {
   "cell_type": "code",
   "execution_count": 43,
   "metadata": {
    "collapsed": false
   },
   "outputs": [
    {
     "data": {
      "text/html": [
       "<div>\n",
       "<table border=\"1\" class=\"dataframe\">\n",
       "  <thead>\n",
       "    <tr style=\"text-align: right;\">\n",
       "      <th></th>\n",
       "      <th>concept</th>\n",
       "      <th>name</th>\n",
       "      <th>concept_type</th>\n",
       "      <th>domain</th>\n",
       "      <th>drill_up</th>\n",
       "    </tr>\n",
       "  </thead>\n",
       "  <tbody>\n",
       "    <tr>\n",
       "      <th>0</th>\n",
       "      <td>population</td>\n",
       "      <td>Population</td>\n",
       "      <td>measure</td>\n",
       "      <td>None</td>\n",
       "      <td>None</td>\n",
       "    </tr>\n",
       "    <tr>\n",
       "      <th>1</th>\n",
       "      <td>name</td>\n",
       "      <td>Name</td>\n",
       "      <td>string</td>\n",
       "      <td>None</td>\n",
       "      <td>None</td>\n",
       "    </tr>\n",
       "    <tr>\n",
       "      <th>2</th>\n",
       "      <td>year</td>\n",
       "      <td>Year</td>\n",
       "      <td>time</td>\n",
       "      <td>None</td>\n",
       "      <td>None</td>\n",
       "    </tr>\n",
       "    <tr>\n",
       "      <th>3</th>\n",
       "      <td>domain</td>\n",
       "      <td>Domain</td>\n",
       "      <td>string</td>\n",
       "      <td>None</td>\n",
       "      <td>None</td>\n",
       "    </tr>\n",
       "    <tr>\n",
       "      <th>4</th>\n",
       "      <td>drill_up</td>\n",
       "      <td>Drill up</td>\n",
       "      <td>string</td>\n",
       "      <td>None</td>\n",
       "      <td>None</td>\n",
       "    </tr>\n",
       "    <tr>\n",
       "      <th>5</th>\n",
       "      <td>geo</td>\n",
       "      <td>Geographic locations</td>\n",
       "      <td>entity_domain</td>\n",
       "      <td>None</td>\n",
       "      <td>None</td>\n",
       "    </tr>\n",
       "    <tr>\n",
       "      <th>6</th>\n",
       "      <td>world_4region</td>\n",
       "      <td>World regions</td>\n",
       "      <td>entity_set</td>\n",
       "      <td>geo</td>\n",
       "      <td>[\"global\"]</td>\n",
       "    </tr>\n",
       "    <tr>\n",
       "      <th>7</th>\n",
       "      <td>country</td>\n",
       "      <td>Country</td>\n",
       "      <td>entity_set</td>\n",
       "      <td>geo</td>\n",
       "      <td>[\"world_4region\"]</td>\n",
       "    </tr>\n",
       "    <tr>\n",
       "      <th>8</th>\n",
       "      <td>global</td>\n",
       "      <td>global</td>\n",
       "      <td>entity_set</td>\n",
       "      <td>geo</td>\n",
       "      <td>None</td>\n",
       "    </tr>\n",
       "  </tbody>\n",
       "</table>\n",
       "</div>"
      ],
      "text/plain": [
       "         concept                  name   concept_type domain  \\\n",
       "0     population            Population        measure   None   \n",
       "1           name                  Name         string   None   \n",
       "2           year                  Year           time   None   \n",
       "3         domain                Domain         string   None   \n",
       "4       drill_up              Drill up         string   None   \n",
       "5            geo  Geographic locations  entity_domain   None   \n",
       "6  world_4region         World regions     entity_set    geo   \n",
       "7        country               Country     entity_set    geo   \n",
       "8         global                global     entity_set    geo   \n",
       "\n",
       "            drill_up  \n",
       "0               None  \n",
       "1               None  \n",
       "2               None  \n",
       "3               None  \n",
       "4               None  \n",
       "5               None  \n",
       "6         [\"global\"]  \n",
       "7  [\"world_4region\"]  \n",
       "8               None  "
      ]
     },
     "execution_count": 43,
     "metadata": {},
     "output_type": "execute_result"
    }
   ],
   "source": [
    "cdf"
   ]
  },
  {
   "cell_type": "code",
   "execution_count": 44,
   "metadata": {
    "collapsed": true
   },
   "outputs": [],
   "source": [
    "cdf.to_csv('../../ddf--concepts.csv', index=False)"
   ]
  },
  {
   "cell_type": "code",
   "execution_count": null,
   "metadata": {
    "collapsed": true
   },
   "outputs": [],
   "source": []
  },
  {
   "cell_type": "code",
   "execution_count": null,
   "metadata": {
    "collapsed": true
   },
   "outputs": [],
   "source": []
  },
  {
   "cell_type": "code",
   "execution_count": 40,
   "metadata": {
    "collapsed": true
   },
   "outputs": [],
   "source": [
    "from ddf_utils.index import create_index_file"
   ]
  },
  {
   "cell_type": "code",
   "execution_count": 45,
   "metadata": {
    "collapsed": false
   },
   "outputs": [
    {
     "data": {
      "text/html": [
       "<div>\n",
       "<table border=\"1\" class=\"dataframe\">\n",
       "  <thead>\n",
       "    <tr style=\"text-align: right;\">\n",
       "      <th></th>\n",
       "      <th>key</th>\n",
       "      <th>value</th>\n",
       "      <th>file</th>\n",
       "    </tr>\n",
       "  </thead>\n",
       "  <tbody>\n",
       "    <tr>\n",
       "      <th>0</th>\n",
       "      <td>concept</td>\n",
       "      <td>name</td>\n",
       "      <td>ddf--concepts.csv</td>\n",
       "    </tr>\n",
       "    <tr>\n",
       "      <th>1</th>\n",
       "      <td>concept</td>\n",
       "      <td>concept_type</td>\n",
       "      <td>ddf--concepts.csv</td>\n",
       "    </tr>\n",
       "    <tr>\n",
       "      <th>2</th>\n",
       "      <td>concept</td>\n",
       "      <td>domain</td>\n",
       "      <td>ddf--concepts.csv</td>\n",
       "    </tr>\n",
       "    <tr>\n",
       "      <th>3</th>\n",
       "      <td>concept</td>\n",
       "      <td>drill_up</td>\n",
       "      <td>ddf--concepts.csv</td>\n",
       "    </tr>\n",
       "    <tr>\n",
       "      <th>4</th>\n",
       "      <td>geo,year</td>\n",
       "      <td>population</td>\n",
       "      <td>ddf--datapoints--population--by--geo--year.csv</td>\n",
       "    </tr>\n",
       "    <tr>\n",
       "      <th>5</th>\n",
       "      <td>global,year</td>\n",
       "      <td>population</td>\n",
       "      <td>ddf--datapoints--population--by--global--year.csv</td>\n",
       "    </tr>\n",
       "    <tr>\n",
       "      <th>6</th>\n",
       "      <td>world_4region,year</td>\n",
       "      <td>population</td>\n",
       "      <td>ddf--datapoints--population--by--world_4region...</td>\n",
       "    </tr>\n",
       "    <tr>\n",
       "      <th>7</th>\n",
       "      <td>geo</td>\n",
       "      <td>name</td>\n",
       "      <td>ddf--entities--geo--country.csv</td>\n",
       "    </tr>\n",
       "    <tr>\n",
       "      <th>8</th>\n",
       "      <td>geo</td>\n",
       "      <td>name</td>\n",
       "      <td>ddf--entities--geo--global.csv</td>\n",
       "    </tr>\n",
       "    <tr>\n",
       "      <th>9</th>\n",
       "      <td>geo</td>\n",
       "      <td>name</td>\n",
       "      <td>ddf--entities--geo--world_4region.csv</td>\n",
       "    </tr>\n",
       "  </tbody>\n",
       "</table>\n",
       "</div>"
      ],
      "text/plain": [
       "                  key         value  \\\n",
       "0             concept          name   \n",
       "1             concept  concept_type   \n",
       "2             concept        domain   \n",
       "3             concept      drill_up   \n",
       "4            geo,year    population   \n",
       "5         global,year    population   \n",
       "6  world_4region,year    population   \n",
       "7                 geo          name   \n",
       "8                 geo          name   \n",
       "9                 geo          name   \n",
       "\n",
       "                                                file  \n",
       "0                                  ddf--concepts.csv  \n",
       "1                                  ddf--concepts.csv  \n",
       "2                                  ddf--concepts.csv  \n",
       "3                                  ddf--concepts.csv  \n",
       "4     ddf--datapoints--population--by--geo--year.csv  \n",
       "5  ddf--datapoints--population--by--global--year.csv  \n",
       "6  ddf--datapoints--population--by--world_4region...  \n",
       "7                    ddf--entities--geo--country.csv  \n",
       "8                     ddf--entities--geo--global.csv  \n",
       "9              ddf--entities--geo--world_4region.csv  "
      ]
     },
     "execution_count": 45,
     "metadata": {},
     "output_type": "execute_result"
    }
   ],
   "source": [
    "create_index_file('../../')"
   ]
  },
  {
   "cell_type": "code",
   "execution_count": null,
   "metadata": {
    "collapsed": true
   },
   "outputs": [],
   "source": []
  },
  {
   "cell_type": "code",
   "execution_count": null,
   "metadata": {
    "collapsed": true
   },
   "outputs": [],
   "source": []
  },
  {
   "cell_type": "code",
   "execution_count": null,
   "metadata": {
    "collapsed": true
   },
   "outputs": [],
   "source": []
  },
  {
   "cell_type": "markdown",
   "metadata": {},
   "source": [
    "## issue: duplicated countries and country/year pairs"
   ]
  },
  {
   "cell_type": "code",
   "execution_count": 5,
   "metadata": {
    "collapsed": true
   },
   "outputs": [],
   "source": [
    "country_entities = country[['geo', 'geo.name']].copy()\n",
    "country_entities = country_entities.drop_duplicates()"
   ]
  },
  {
   "cell_type": "markdown",
   "metadata": {},
   "source": [
    "### List of duplicated geo entities"
   ]
  },
  {
   "cell_type": "code",
   "execution_count": 12,
   "metadata": {
    "collapsed": false
   },
   "outputs": [
    {
     "data": {
      "text/html": [
       "<div>\n",
       "<table border=\"1\" class=\"dataframe\">\n",
       "  <thead>\n",
       "    <tr style=\"text-align: right;\">\n",
       "      <th></th>\n",
       "      <th>geo</th>\n",
       "      <th>geo.name</th>\n",
       "    </tr>\n",
       "  </thead>\n",
       "  <tbody>\n",
       "    <tr>\n",
       "      <th>11497</th>\n",
       "      <td>caf</td>\n",
       "      <td>Central African Republic</td>\n",
       "    </tr>\n",
       "    <tr>\n",
       "      <th>77383</th>\n",
       "      <td>caf</td>\n",
       "      <td>Central African Rep.</td>\n",
       "    </tr>\n",
       "    <tr>\n",
       "      <th>14328</th>\n",
       "      <td>cok</td>\n",
       "      <td>Cook Is</td>\n",
       "    </tr>\n",
       "    <tr>\n",
       "      <th>79104</th>\n",
       "      <td>cok</td>\n",
       "      <td>Cook Islands</td>\n",
       "    </tr>\n",
       "    <tr>\n",
       "      <th>16134</th>\n",
       "      <td>cze</td>\n",
       "      <td>Czech Republic</td>\n",
       "    </tr>\n",
       "    <tr>\n",
       "      <th>80135</th>\n",
       "      <td>cze</td>\n",
       "      <td>Czech Rep.</td>\n",
       "    </tr>\n",
       "    <tr>\n",
       "      <th>17397</th>\n",
       "      <td>dom</td>\n",
       "      <td>Dominican Republic</td>\n",
       "    </tr>\n",
       "    <tr>\n",
       "      <th>80986</th>\n",
       "      <td>dom</td>\n",
       "      <td>Dominican Rep.</td>\n",
       "    </tr>\n",
       "    <tr>\n",
       "      <th>20224</th>\n",
       "      <td>flk</td>\n",
       "      <td>Falkland Is (Malvinas)</td>\n",
       "    </tr>\n",
       "    <tr>\n",
       "      <th>82570</th>\n",
       "      <td>flk</td>\n",
       "      <td>Falkland Islands (Malvinas)</td>\n",
       "    </tr>\n",
       "    <tr>\n",
       "      <th>91044</th>\n",
       "      <td>kgz</td>\n",
       "      <td>Kyrgyzstan</td>\n",
       "    </tr>\n",
       "    <tr>\n",
       "      <th>33704</th>\n",
       "      <td>kgz</td>\n",
       "      <td>Kyrgyz Republic</td>\n",
       "    </tr>\n",
       "    <tr>\n",
       "      <th>52611</th>\n",
       "      <td>kna</td>\n",
       "      <td>St. Kitts and Nevis</td>\n",
       "    </tr>\n",
       "    <tr>\n",
       "      <th>101882</th>\n",
       "      <td>kna</td>\n",
       "      <td>Saint Kitts and Nevis</td>\n",
       "    </tr>\n",
       "    <tr>\n",
       "      <th>90568</th>\n",
       "      <td>kor</td>\n",
       "      <td>Korea, Rep.</td>\n",
       "    </tr>\n",
       "    <tr>\n",
       "      <th>32984</th>\n",
       "      <td>kor</td>\n",
       "      <td>South Korea</td>\n",
       "    </tr>\n",
       "    <tr>\n",
       "      <th>90765</th>\n",
       "      <td>korea_union</td>\n",
       "      <td>Korea, United</td>\n",
       "    </tr>\n",
       "    <tr>\n",
       "      <th>33285</th>\n",
       "      <td>korea_union</td>\n",
       "      <td>United Korea (former)</td>\n",
       "    </tr>\n",
       "    <tr>\n",
       "      <th>91197</th>\n",
       "      <td>lao</td>\n",
       "      <td>Laos</td>\n",
       "    </tr>\n",
       "    <tr>\n",
       "      <th>34005</th>\n",
       "      <td>lao</td>\n",
       "      <td>Lao</td>\n",
       "    </tr>\n",
       "    <tr>\n",
       "      <th>102035</th>\n",
       "      <td>lca</td>\n",
       "      <td>Saint Lucia</td>\n",
       "    </tr>\n",
       "    <tr>\n",
       "      <th>52912</th>\n",
       "      <td>lca</td>\n",
       "      <td>St. Lucia</td>\n",
       "    </tr>\n",
       "    <tr>\n",
       "      <th>90413</th>\n",
       "      <td>prk</td>\n",
       "      <td>Korea, Dem. Rep.</td>\n",
       "    </tr>\n",
       "    <tr>\n",
       "      <th>32683</th>\n",
       "      <td>prk</td>\n",
       "      <td>North Korea</td>\n",
       "    </tr>\n",
       "    <tr>\n",
       "      <th>52310</th>\n",
       "      <td>shn</td>\n",
       "      <td>St. Helena</td>\n",
       "    </tr>\n",
       "    <tr>\n",
       "      <th>101719</th>\n",
       "      <td>shn</td>\n",
       "      <td>Saint Helena</td>\n",
       "    </tr>\n",
       "    <tr>\n",
       "      <th>102362</th>\n",
       "      <td>spm</td>\n",
       "      <td>Saint-Pierre-et-Miquelon</td>\n",
       "    </tr>\n",
       "    <tr>\n",
       "      <th>53573</th>\n",
       "      <td>spm</td>\n",
       "      <td>St.-Pierre-et-Miquelon</td>\n",
       "    </tr>\n",
       "    <tr>\n",
       "      <th>53213</th>\n",
       "      <td>stmar</td>\n",
       "      <td>St. Martin</td>\n",
       "    </tr>\n",
       "    <tr>\n",
       "      <th>102196</th>\n",
       "      <td>stmar</td>\n",
       "      <td>Saint Martin</td>\n",
       "    </tr>\n",
       "    <tr>\n",
       "      <th>102199</th>\n",
       "      <td>vct</td>\n",
       "      <td>Saint Vincent and the Grenadines</td>\n",
       "    </tr>\n",
       "    <tr>\n",
       "      <th>53272</th>\n",
       "      <td>vct</td>\n",
       "      <td>St. Vincent and the Grenadines</td>\n",
       "    </tr>\n",
       "    <tr>\n",
       "      <th>69100</th>\n",
       "      <td>yem</td>\n",
       "      <td>Yemen</td>\n",
       "    </tr>\n",
       "    <tr>\n",
       "      <th>112046</th>\n",
       "      <td>yem</td>\n",
       "      <td>Yemen, Rep.</td>\n",
       "    </tr>\n",
       "    <tr>\n",
       "      <th>68982</th>\n",
       "      <td>yem_north</td>\n",
       "      <td>North Yemen (former)</td>\n",
       "    </tr>\n",
       "    <tr>\n",
       "      <th>111998</th>\n",
       "      <td>yem_north</td>\n",
       "      <td>Yemen Arab Republic (Former)</td>\n",
       "    </tr>\n",
       "    <tr>\n",
       "      <th>69041</th>\n",
       "      <td>yem_south</td>\n",
       "      <td>South Yemen (former)</td>\n",
       "    </tr>\n",
       "    <tr>\n",
       "      <th>112022</th>\n",
       "      <td>yem_south</td>\n",
       "      <td>Yemen Democratic (Former)</td>\n",
       "    </tr>\n",
       "  </tbody>\n",
       "</table>\n",
       "</div>"
      ],
      "text/plain": [
       "                geo                          geo.name\n",
       "11497           caf          Central African Republic\n",
       "77383           caf              Central African Rep.\n",
       "14328           cok                           Cook Is\n",
       "79104           cok                      Cook Islands\n",
       "16134           cze                    Czech Republic\n",
       "80135           cze                        Czech Rep.\n",
       "17397           dom                Dominican Republic\n",
       "80986           dom                    Dominican Rep.\n",
       "20224           flk            Falkland Is (Malvinas)\n",
       "82570           flk       Falkland Islands (Malvinas)\n",
       "91044           kgz                        Kyrgyzstan\n",
       "33704           kgz                   Kyrgyz Republic\n",
       "52611           kna               St. Kitts and Nevis\n",
       "101882          kna             Saint Kitts and Nevis\n",
       "90568           kor                       Korea, Rep.\n",
       "32984           kor                       South Korea\n",
       "90765   korea_union                     Korea, United\n",
       "33285   korea_union             United Korea (former)\n",
       "91197           lao                              Laos\n",
       "34005           lao                               Lao\n",
       "102035          lca                       Saint Lucia\n",
       "52912           lca                         St. Lucia\n",
       "90413           prk                  Korea, Dem. Rep.\n",
       "32683           prk                       North Korea\n",
       "52310           shn                        St. Helena\n",
       "101719          shn                      Saint Helena\n",
       "102362          spm          Saint-Pierre-et-Miquelon\n",
       "53573           spm            St.-Pierre-et-Miquelon\n",
       "53213         stmar                        St. Martin\n",
       "102196        stmar                      Saint Martin\n",
       "102199          vct  Saint Vincent and the Grenadines\n",
       "53272           vct    St. Vincent and the Grenadines\n",
       "69100           yem                             Yemen\n",
       "112046          yem                       Yemen, Rep.\n",
       "68982     yem_north              North Yemen (former)\n",
       "111998    yem_north      Yemen Arab Republic (Former)\n",
       "69041     yem_south              South Yemen (former)\n",
       "112022    yem_south         Yemen Democratic (Former)"
      ]
     },
     "execution_count": 12,
     "metadata": {},
     "output_type": "execute_result"
    }
   ],
   "source": [
    "country_entities[country_entities.geo.isin(country_entities[country_entities.duplicated('geo')]['geo'].unique())].sort_values(by='geo')"
   ]
  },
  {
   "cell_type": "markdown",
   "metadata": {},
   "source": [
    "### list of country with no geo name"
   ]
  },
  {
   "cell_type": "code",
   "execution_count": 13,
   "metadata": {
    "collapsed": false
   },
   "outputs": [
    {
     "data": {
      "text/html": [
       "<div>\n",
       "<table border=\"1\" class=\"dataframe\">\n",
       "  <thead>\n",
       "    <tr style=\"text-align: right;\">\n",
       "      <th></th>\n",
       "      <th>geo</th>\n",
       "      <th>geo.name</th>\n",
       "    </tr>\n",
       "  </thead>\n",
       "  <tbody>\n",
       "    <tr>\n",
       "      <th>101706</th>\n",
       "      <td>NaN</td>\n",
       "      <td>Saint Barthélemy</td>\n",
       "    </tr>\n",
       "  </tbody>\n",
       "</table>\n",
       "</div>"
      ],
      "text/plain": [
       "        geo          geo.name\n",
       "101706  NaN  Saint Barthélemy"
      ]
     },
     "execution_count": 13,
     "metadata": {},
     "output_type": "execute_result"
    }
   ],
   "source": [
    "country_entities[pd.isnull(country_entities.geo)]"
   ]
  },
  {
   "cell_type": "markdown",
   "metadata": {},
   "source": [
    "### duplicated country/year pair"
   ]
  },
  {
   "cell_type": "code",
   "execution_count": 25,
   "metadata": {
    "collapsed": false
   },
   "outputs": [],
   "source": [
    "to_concat = []\n",
    "\n",
    "for i, g in country.groupby(['geo', 'year']).groups.items():\n",
    "    if len(g) > 1:\n",
    "        to_concat.append(country.ix[g])"
   ]
  },
  {
   "cell_type": "code",
   "execution_count": 27,
   "metadata": {
    "collapsed": false
   },
   "outputs": [],
   "source": [
    "dups = pd.concat(to_concat)"
   ]
  },
  {
   "cell_type": "code",
   "execution_count": 32,
   "metadata": {
    "collapsed": false
   },
   "outputs": [
    {
     "name": "stdout",
     "output_type": "stream",
     "text": [
      "the number of duplicated rows: \t 82384\n",
      "the number of total rows: \t 112623\n"
     ]
    }
   ],
   "source": [
    "print(\"the number of duplicated rows: \\t\", dups.shape[0])\n",
    "print(\"the number of total rows: \\t\", country.shape[0])"
   ]
  },
  {
   "cell_type": "code",
   "execution_count": 33,
   "metadata": {
    "collapsed": false
   },
   "outputs": [
    {
     "data": {
      "text/html": [
       "<div>\n",
       "<table border=\"1\" class=\"dataframe\">\n",
       "  <thead>\n",
       "    <tr style=\"text-align: right;\">\n",
       "      <th></th>\n",
       "      <th>geo</th>\n",
       "      <th>geo.name</th>\n",
       "      <th>year</th>\n",
       "      <th>population</th>\n",
       "    </tr>\n",
       "  </thead>\n",
       "  <tbody>\n",
       "    <tr>\n",
       "      <th>12858</th>\n",
       "      <td>chn</td>\n",
       "      <td>China</td>\n",
       "      <td>1957</td>\n",
       "      <td>615992182</td>\n",
       "    </tr>\n",
       "    <tr>\n",
       "      <th>78265</th>\n",
       "      <td>chn</td>\n",
       "      <td>China</td>\n",
       "      <td>1957</td>\n",
       "      <td>628412938</td>\n",
       "    </tr>\n",
       "    <tr>\n",
       "      <th>62531</th>\n",
       "      <td>tkl</td>\n",
       "      <td>Tokelau</td>\n",
       "      <td>2089</td>\n",
       "      <td>1586</td>\n",
       "    </tr>\n",
       "    <tr>\n",
       "      <th>108032</th>\n",
       "      <td>tkl</td>\n",
       "      <td>Tokelau</td>\n",
       "      <td>2089</td>\n",
       "      <td>1850</td>\n",
       "    </tr>\n",
       "    <tr>\n",
       "      <th>9284</th>\n",
       "      <td>bgr</td>\n",
       "      <td>Bulgaria</td>\n",
       "      <td>1995</td>\n",
       "      <td>8358116</td>\n",
       "    </tr>\n",
       "    <tr>\n",
       "      <th>76111</th>\n",
       "      <td>bgr</td>\n",
       "      <td>Bulgaria</td>\n",
       "      <td>1995</td>\n",
       "      <td>8356624</td>\n",
       "    </tr>\n",
       "    <tr>\n",
       "      <th>11668</th>\n",
       "      <td>caf</td>\n",
       "      <td>Central African Republic</td>\n",
       "      <td>1971</td>\n",
       "      <td>1864757</td>\n",
       "    </tr>\n",
       "    <tr>\n",
       "      <th>77407</th>\n",
       "      <td>caf</td>\n",
       "      <td>Central African Rep.</td>\n",
       "      <td>1971</td>\n",
       "      <td>1864764</td>\n",
       "    </tr>\n",
       "    <tr>\n",
       "      <th>4458</th>\n",
       "      <td>bhs</td>\n",
       "      <td>Bahamas</td>\n",
       "      <td>1985</td>\n",
       "      <td>234684</td>\n",
       "    </tr>\n",
       "    <tr>\n",
       "      <th>73292</th>\n",
       "      <td>bhs</td>\n",
       "      <td>Bahamas</td>\n",
       "      <td>1985</td>\n",
       "      <td>234553</td>\n",
       "    </tr>\n",
       "    <tr>\n",
       "      <th>28268</th>\n",
       "      <td>isl</td>\n",
       "      <td>Iceland</td>\n",
       "      <td>1959</td>\n",
       "      <td>171919</td>\n",
       "    </tr>\n",
       "    <tr>\n",
       "      <th>87413</th>\n",
       "      <td>isl</td>\n",
       "      <td>Iceland</td>\n",
       "      <td>1959</td>\n",
       "      <td>172450</td>\n",
       "    </tr>\n",
       "    <tr>\n",
       "      <th>16446</th>\n",
       "      <td>cheslo</td>\n",
       "      <td>Czechoslovakia</td>\n",
       "      <td>1961</td>\n",
       "      <td>13763549</td>\n",
       "    </tr>\n",
       "    <tr>\n",
       "      <th>80339</th>\n",
       "      <td>cheslo</td>\n",
       "      <td>Czechoslovakia</td>\n",
       "      <td>1961</td>\n",
       "      <td>13778892</td>\n",
       "    </tr>\n",
       "    <tr>\n",
       "      <th>655</th>\n",
       "      <td>alb</td>\n",
       "      <td>Albania</td>\n",
       "      <td>2095</td>\n",
       "      <td>1840408</td>\n",
       "    </tr>\n",
       "    <tr>\n",
       "      <th>71069</th>\n",
       "      <td>alb</td>\n",
       "      <td>Albania</td>\n",
       "      <td>2095</td>\n",
       "      <td>1925021</td>\n",
       "    </tr>\n",
       "    <tr>\n",
       "      <th>42107</th>\n",
       "      <td>mng</td>\n",
       "      <td>Mongolia</td>\n",
       "      <td>2076</td>\n",
       "      <td>4380178</td>\n",
       "    </tr>\n",
       "    <tr>\n",
       "      <th>95480</th>\n",
       "      <td>mng</td>\n",
       "      <td>Mongolia</td>\n",
       "      <td>2076</td>\n",
       "      <td>4506947</td>\n",
       "    </tr>\n",
       "    <tr>\n",
       "      <th>7281</th>\n",
       "      <td>btn</td>\n",
       "      <td>Bhutan</td>\n",
       "      <td>2099</td>\n",
       "      <td>796836</td>\n",
       "    </tr>\n",
       "    <tr>\n",
       "      <th>74955</th>\n",
       "      <td>btn</td>\n",
       "      <td>Bhutan</td>\n",
       "      <td>2099</td>\n",
       "      <td>786172</td>\n",
       "    </tr>\n",
       "    <tr>\n",
       "      <th>69436</th>\n",
       "      <td>yug</td>\n",
       "      <td>Yugoslavia</td>\n",
       "      <td>1985</td>\n",
       "      <td>22214111</td>\n",
       "    </tr>\n",
       "    <tr>\n",
       "      <th>112270</th>\n",
       "      <td>yug</td>\n",
       "      <td>Yugoslavia</td>\n",
       "      <td>1985</td>\n",
       "      <td>22216101</td>\n",
       "    </tr>\n",
       "    <tr>\n",
       "      <th>2134</th>\n",
       "      <td>aia</td>\n",
       "      <td>Anguilla</td>\n",
       "      <td>2069</td>\n",
       "      <td>13695</td>\n",
       "    </tr>\n",
       "    <tr>\n",
       "      <th>71819</th>\n",
       "      <td>aia</td>\n",
       "      <td>Anguilla</td>\n",
       "      <td>2069</td>\n",
       "      <td>17184</td>\n",
       "    </tr>\n",
       "    <tr>\n",
       "      <th>27713</th>\n",
       "      <td>hkg</td>\n",
       "      <td>Hong Kong, China</td>\n",
       "      <td>2006</td>\n",
       "      <td>6855818</td>\n",
       "    </tr>\n",
       "    <tr>\n",
       "      <th>87116</th>\n",
       "      <td>hkg</td>\n",
       "      <td>Hong Kong, China</td>\n",
       "      <td>2006</td>\n",
       "      <td>6832989</td>\n",
       "    </tr>\n",
       "    <tr>\n",
       "      <th>62465</th>\n",
       "      <td>tkl</td>\n",
       "      <td>Tokelau</td>\n",
       "      <td>2023</td>\n",
       "      <td>1388</td>\n",
       "    </tr>\n",
       "    <tr>\n",
       "      <th>107966</th>\n",
       "      <td>tkl</td>\n",
       "      <td>Tokelau</td>\n",
       "      <td>2023</td>\n",
       "      <td>1226</td>\n",
       "    </tr>\n",
       "    <tr>\n",
       "      <th>14905</th>\n",
       "      <td>cri</td>\n",
       "      <td>Costa Rica</td>\n",
       "      <td>2076</td>\n",
       "      <td>5530104</td>\n",
       "    </tr>\n",
       "    <tr>\n",
       "      <th>79430</th>\n",
       "      <td>cri</td>\n",
       "      <td>Costa Rica</td>\n",
       "      <td>2076</td>\n",
       "      <td>5618697</td>\n",
       "    </tr>\n",
       "  </tbody>\n",
       "</table>\n",
       "</div>"
      ],
      "text/plain": [
       "           geo                  geo.name  year  population\n",
       "12858      chn                     China  1957   615992182\n",
       "78265      chn                     China  1957   628412938\n",
       "62531      tkl                   Tokelau  2089        1586\n",
       "108032     tkl                   Tokelau  2089        1850\n",
       "9284       bgr                  Bulgaria  1995     8358116\n",
       "76111      bgr                  Bulgaria  1995     8356624\n",
       "11668      caf  Central African Republic  1971     1864757\n",
       "77407      caf      Central African Rep.  1971     1864764\n",
       "4458       bhs                   Bahamas  1985      234684\n",
       "73292      bhs                   Bahamas  1985      234553\n",
       "28268      isl                   Iceland  1959      171919\n",
       "87413      isl                   Iceland  1959      172450\n",
       "16446   cheslo            Czechoslovakia  1961    13763549\n",
       "80339   cheslo            Czechoslovakia  1961    13778892\n",
       "655        alb                   Albania  2095     1840408\n",
       "71069      alb                   Albania  2095     1925021\n",
       "42107      mng                  Mongolia  2076     4380178\n",
       "95480      mng                  Mongolia  2076     4506947\n",
       "7281       btn                    Bhutan  2099      796836\n",
       "74955      btn                    Bhutan  2099      786172\n",
       "69436      yug                Yugoslavia  1985    22214111\n",
       "112270     yug                Yugoslavia  1985    22216101\n",
       "2134       aia                  Anguilla  2069       13695\n",
       "71819      aia                  Anguilla  2069       17184\n",
       "27713      hkg          Hong Kong, China  2006     6855818\n",
       "87116      hkg          Hong Kong, China  2006     6832989\n",
       "62465      tkl                   Tokelau  2023        1388\n",
       "107966     tkl                   Tokelau  2023        1226\n",
       "14905      cri                Costa Rica  2076     5530104\n",
       "79430      cri                Costa Rica  2076     5618697"
      ]
     },
     "execution_count": 33,
     "metadata": {},
     "output_type": "execute_result"
    }
   ],
   "source": [
    "# pick some of the rows.\n",
    "dups.head(30)"
   ]
  },
  {
   "cell_type": "code",
   "execution_count": null,
   "metadata": {
    "collapsed": true
   },
   "outputs": [],
   "source": []
  }
 ],
 "metadata": {
  "kernelspec": {
   "display_name": "Python 3",
   "language": "python",
   "name": "python3"
  },
  "language_info": {
   "codemirror_mode": {
    "name": "ipython",
    "version": 3
   },
   "file_extension": ".py",
   "mimetype": "text/x-python",
   "name": "python",
   "nbconvert_exporter": "python",
   "pygments_lexer": "ipython3",
   "version": "3.5.2"
  }
 },
 "nbformat": 4,
 "nbformat_minor": 0
}
